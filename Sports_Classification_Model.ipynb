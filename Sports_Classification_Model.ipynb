{
  "nbformat": 4,
  "nbformat_minor": 0,
  "metadata": {
    "colab": {
      "provenance": [],
      "gpuType": "T4",
      "mount_file_id": "1Yck6rYJFiXGhtMqrA7N4EtIiVQBuDC5w",
      "authorship_tag": "ABX9TyMScLcVvZ2x+KY0hWOpTqjB",
      "include_colab_link": true
    },
    "kernelspec": {
      "name": "python3",
      "display_name": "Python 3"
    },
    "language_info": {
      "name": "python"
    },
    "accelerator": "GPU"
  },
  "cells": [
    {
      "cell_type": "markdown",
      "metadata": {
        "id": "view-in-github",
        "colab_type": "text"
      },
      "source": [
        "<a href=\"https://colab.research.google.com/github/noahgoldschmied/Name-That-Sport/blob/main/Sports_Classification_Model.ipynb\" target=\"_parent\"><img src=\"https://colab.research.google.com/assets/colab-badge.svg\" alt=\"Open In Colab\"/></a>"
      ]
    },
    {
      "cell_type": "code",
      "execution_count": 1,
      "metadata": {
        "colab": {
          "base_uri": "https://localhost:8080/"
        },
        "id": "De236StiqLQb",
        "outputId": "c79656d7-5ec2-4e82-b02b-f29899b8e080"
      },
      "outputs": [
        {
          "output_type": "stream",
          "name": "stdout",
          "text": [
            "Drive already mounted at /content/drive; to attempt to forcibly remount, call drive.mount(\"/content/drive\", force_remount=True).\n"
          ]
        }
      ],
      "source": [
        "from google.colab import files, drive\n",
        "drive.mount(\"/content/drive\")"
      ]
    },
    {
      "cell_type": "code",
      "source": [
        "!pip install -q kaggle\n"
      ],
      "metadata": {
        "id": "8zuSiNRKqV9_"
      },
      "execution_count": 2,
      "outputs": []
    },
    {
      "cell_type": "code",
      "source": [
        "!mkdir ~/.kaggle\n",
        "\n"
      ],
      "metadata": {
        "colab": {
          "base_uri": "https://localhost:8080/"
        },
        "id": "8ZQLuMSiqeLJ",
        "outputId": "10fc6f52-b86a-4912-aab4-9993b99a1966"
      },
      "execution_count": 3,
      "outputs": [
        {
          "output_type": "stream",
          "name": "stdout",
          "text": [
            "mkdir: cannot create directory ‘/root/.kaggle’: File exists\n"
          ]
        }
      ]
    },
    {
      "cell_type": "code",
      "source": [
        "!cp /content/drive/MyDrive/Colab_Notebooks/kaggle.json ~/.kaggle/"
      ],
      "metadata": {
        "id": "dbWSNfXKqiMt"
      },
      "execution_count": 4,
      "outputs": []
    },
    {
      "cell_type": "code",
      "source": [
        "!chmod 600 ~/.kaggle/kaggle.json"
      ],
      "metadata": {
        "id": "h3-bVXBBvg3O"
      },
      "execution_count": 5,
      "outputs": []
    },
    {
      "cell_type": "code",
      "source": [
        "!kaggle datasets download -d gpiosenka/sports-classification\n",
        "!mkdir data\n",
        "! unzip sports-classification.zip -d data"
      ],
      "metadata": {
        "colab": {
          "base_uri": "https://localhost:8080/"
        },
        "id": "Ni89HiyCvvHB",
        "outputId": "8704c327-1aec-4957-803c-07b2679e1009"
      },
      "execution_count": 6,
      "outputs": [
        {
          "output_type": "stream",
          "name": "stdout",
          "text": [
            "Dataset URL: https://www.kaggle.com/datasets/gpiosenka/sports-classification\n",
            "License(s): CC0-1.0\n",
            "sports-classification.zip: Skipping, found more recently modified local copy (use --force to force download)\n",
            "mkdir: cannot create directory ‘data’: File exists\n",
            "Archive:  sports-classification.zip\n",
            "replace data/EfficientNetB0-100-(224 X 224)- 98.40.h5? [y]es, [n]o, [A]ll, [N]one, [r]ename: N\n"
          ]
        }
      ]
    },
    {
      "cell_type": "code",
      "source": [
        "#importing our dependencies\n",
        "import tensorflow as tf\n",
        "import os\n",
        "#importing more\n",
        "import numpy as np\n",
        "from matplotlib import pyplot as plt\n",
        "from tensorflow.keras.preprocessing.image import ImageDataGenerator\n",
        "\n",
        "gpus = tf.config.list_physical_devices(device_type=\"GPU\")\n",
        "print(gpus)"
      ],
      "metadata": {
        "colab": {
          "base_uri": "https://localhost:8080/"
        },
        "id": "6xJio36WwUFO",
        "outputId": "a851daf7-80d5-4483-d006-fde9f79cc5b4"
      },
      "execution_count": 7,
      "outputs": [
        {
          "output_type": "stream",
          "name": "stdout",
          "text": [
            "[PhysicalDevice(name='/physical_device:GPU:0', device_type='GPU')]\n"
          ]
        }
      ]
    },
    {
      "cell_type": "code",
      "source": [
        "#creating the data pipelines\n",
        "training_data = tf.keras.utils.image_dataset_from_directory('data/train', label_mode='categorical', shuffle=True) #generator\n",
        "testing_data = tf.keras.utils.image_dataset_from_directory('data/test', label_mode='categorical', shuffle=False)\n",
        "validating_data = tf.keras.utils.image_dataset_from_directory('data/valid', label_mode='categorical', shuffle=False)\n"
      ],
      "metadata": {
        "colab": {
          "base_uri": "https://localhost:8080/"
        },
        "id": "CK7EBm_awpO2",
        "outputId": "69bbbddf-ba5e-4914-8dc3-8f576d6e59b4"
      },
      "execution_count": 8,
      "outputs": [
        {
          "output_type": "stream",
          "name": "stdout",
          "text": [
            "Found 13492 files belonging to 100 classes.\n",
            "Found 500 files belonging to 100 classes.\n",
            "Found 500 files belonging to 100 classes.\n"
          ]
        }
      ]
    },
    {
      "cell_type": "code",
      "source": [
        "#right now we have our batches, with values from 0-255. In order to make the learning more efficient, we want to scale down to 0-1\n",
        "\n",
        "#the map function allows us to transform within the pipeline\n",
        "#the x variable represents the images, y represents the class labels\n",
        "#by doing x/255, we scale down to 0-1\n",
        "training_data = training_data.map(lambda x, y: (x/255, y))\n",
        "testing_data = testing_data.map(lambda x, y: (x/255, y))\n",
        "validating_data = validating_data.map(lambda x, y: (x/255, y))"
      ],
      "metadata": {
        "id": "s9o1KSN8wvMV"
      },
      "execution_count": 9,
      "outputs": []
    },
    {
      "cell_type": "code",
      "source": [
        "#importing more dependencies\n",
        "from tensorflow.keras.layers import Input, Conv2D, SeparableConv2D, \\\n",
        "     Add, Dense, BatchNormalization, ReLU, MaxPool2D, GlobalAvgPool2D\n",
        "from tensorflow.keras import Model\n"
      ],
      "metadata": {
        "id": "k-Hjqcv5w3vZ"
      },
      "execution_count": 10,
      "outputs": []
    },
    {
      "cell_type": "code",
      "source": [
        "data_augmentation = tf.keras.models.Sequential([\n",
        "    tf.keras.layers.RandomFlip(\"horizontal\"),\n",
        "    tf.keras.layers.RandomHeight(0.2),\n",
        "    tf.keras.layers.RandomWidth(0.2),\n",
        "    tf.keras.layers.RandomZoom(0.2),\n",
        "    tf.keras.layers.RandomRotation(0.2),\n",
        "    tf.keras.layers.RandomContrast(factor=0.1),\n",
        "], name=\"data_augmentation_layer\")\n",
        "\n",
        "def conv_bn(x, filters, kernel_size, strides=1):\n",
        "    x = Conv2D(filters=filters,\n",
        "               kernel_size=kernel_size,\n",
        "               strides=strides,\n",
        "               padding='same',\n",
        "               use_bias=False)(x)\n",
        "    x = BatchNormalization()(x)\n",
        "    return x\n",
        "\n",
        "\n",
        "def sep_bn(x, filters, kernel_size, strides=1):\n",
        "    x = SeparableConv2D(filters=filters,\n",
        "                        kernel_size=kernel_size,\n",
        "                        strides=strides,\n",
        "                        padding='same',\n",
        "                        use_bias=False)(x)\n",
        "    x = BatchNormalization()(x)\n",
        "    return x\n",
        "\n",
        "\n",
        "def entry_flow(x):\n",
        "    x = conv_bn(x, filters=32, kernel_size=3, strides=2)\n",
        "    x = ReLU()(x)\n",
        "    x = conv_bn(x, filters=64, kernel_size=3)\n",
        "    tensor = ReLU()(x)\n",
        "\n",
        "    x = sep_bn(tensor, filters=128, kernel_size=3)\n",
        "    x = ReLU()(x)\n",
        "    x = sep_bn(x, filters=128, kernel_size=3)\n",
        "    x = MaxPool2D(pool_size=3, strides=2, padding='same')(x)\n",
        "\n",
        "    tensor = conv_bn(tensor, filters=128, kernel_size=1, strides=2)\n",
        "\n",
        "    x = Add()([tensor, x])\n",
        "    x = ReLU()(x)\n",
        "    x = sep_bn(x, filters=256, kernel_size=3)\n",
        "    x = ReLU()(x)\n",
        "    x = sep_bn(x, filters=256, kernel_size=3)\n",
        "    x = MaxPool2D(pool_size=3, strides=2, padding='same')(x)\n",
        "\n",
        "    tensor = conv_bn(tensor, filters=256, kernel_size=1, strides=2)\n",
        "\n",
        "    x = Add()([tensor, x])\n",
        "    x = ReLU()(x)\n",
        "    x = sep_bn(x, filters=728, kernel_size=3)\n",
        "    x = ReLU()(x)\n",
        "    x = sep_bn(x, filters=728, kernel_size=3)\n",
        "    x = MaxPool2D(pool_size=3, strides=2, padding='same')(x)\n",
        "\n",
        "    tensor = conv_bn(tensor, filters=728, kernel_size=1, strides=2)\n",
        "    x = Add()([tensor, x])\n",
        "\n",
        "    return x\n",
        "\n",
        "\n",
        "def middle_flow(tensor):\n",
        "    for _ in range(8):\n",
        "        x = ReLU()(tensor)\n",
        "        x = sep_bn(x, filters=728, kernel_size=3)\n",
        "        x = ReLU()(x)\n",
        "        x = sep_bn(x, filters=728, kernel_size=3)\n",
        "        x = ReLU()(x)\n",
        "        x = sep_bn(x, filters=728, kernel_size=3)\n",
        "\n",
        "        tensor = Add()([tensor, x])\n",
        "\n",
        "    return tensor\n",
        "\n",
        "\n",
        "def exit_flow(tensor):\n",
        "    x = ReLU()(tensor)\n",
        "    x = sep_bn(x, filters=728, kernel_size=3)\n",
        "    x = ReLU()(x)\n",
        "    x = sep_bn(x, filters=1024, kernel_size=3)\n",
        "    x = MaxPool2D(3, strides=2, padding='same')(x)\n",
        "\n",
        "    tensor = conv_bn(tensor, filters=1024, kernel_size=1, strides=2)\n",
        "\n",
        "    x = Add()([tensor, x])\n",
        "    x = sep_bn(x, filters=1536, kernel_size=3)\n",
        "    x = ReLU()(x)\n",
        "    x = sep_bn(x, filters=2048, kernel_size=3)\n",
        "    x = ReLU()(x)\n",
        "    x = GlobalAvgPool2D()(x)\n",
        "    x = Dense(units=100, activation='softmax')(x)\n",
        "\n",
        "    return x\n",
        "\n"
      ],
      "metadata": {
        "id": "bRuVVgnUw51B"
      },
      "execution_count": 11,
      "outputs": []
    },
    {
      "cell_type": "code",
      "source": [
        "# Define RMSprop optimizer with specific parameters\n",
        "from tensorflow.keras.optimizers import RMSprop\n",
        "from tensorflow.keras.callbacks import EarlyStopping, ReduceLROnPlateau\n",
        "\n",
        "early_stopping = EarlyStopping(monitor='val_loss', patience=5, restore_best_weights=True)\n",
        "\n",
        "optimizer = RMSprop(learning_rate=0.001, rho=0.9, epsilon=1e-07)\n",
        "reduce_lr = ReduceLROnPlateau(monitor='val_loss', factor=0.1, patience=3, min_lr=1e-7)"
      ],
      "metadata": {
        "id": "hBZFBArq26y0"
      },
      "execution_count": 12,
      "outputs": []
    },
    {
      "cell_type": "code",
      "source": [
        "input = Input(shape=[256, 256, 3])\n",
        "\n",
        "x = data_augmentation(input)\n",
        "x = entry_flow(input)\n",
        "x = middle_flow(x)\n",
        "output = exit_flow(x)\n",
        "\n",
        "model = Model(input, output)\n",
        "model.compile(optimizer='adam',loss='categorical_crossentropy',metrics=['accuracy'])"
      ],
      "metadata": {
        "id": "W3tQsvdHxGlZ"
      },
      "execution_count": 13,
      "outputs": []
    },
    {
      "cell_type": "code",
      "source": [
        "hist = model.fit(training_data, epochs = 25, validation_data=validating_data, callbacks=[early_stopping, reduce_lr])"
      ],
      "metadata": {
        "colab": {
          "base_uri": "https://localhost:8080/"
        },
        "id": "Co2mU6dQxI2x",
        "outputId": "82fc357a-44da-43f5-ac86-91429ad17df5"
      },
      "execution_count": 14,
      "outputs": [
        {
          "output_type": "stream",
          "name": "stdout",
          "text": [
            "Epoch 1/25\n",
            "\u001b[1m422/422\u001b[0m \u001b[32m━━━━━━━━━━━━━━━━━━━━\u001b[0m\u001b[37m\u001b[0m \u001b[1m323s\u001b[0m 605ms/step - accuracy: 0.0817 - loss: 4.0825 - val_accuracy: 0.0400 - val_loss: 4.3837 - learning_rate: 0.0010\n",
            "Epoch 2/25\n",
            "\u001b[1m422/422\u001b[0m \u001b[32m━━━━━━━━━━━━━━━━━━━━\u001b[0m\u001b[37m\u001b[0m \u001b[1m226s\u001b[0m 534ms/step - accuracy: 0.3004 - loss: 2.7211 - val_accuracy: 0.2080 - val_loss: 5.2281 - learning_rate: 0.0010\n",
            "Epoch 3/25\n",
            "\u001b[1m422/422\u001b[0m \u001b[32m━━━━━━━━━━━━━━━━━━━━\u001b[0m\u001b[37m\u001b[0m \u001b[1m229s\u001b[0m 543ms/step - accuracy: 0.4449 - loss: 2.0395 - val_accuracy: 0.3200 - val_loss: 3.4211 - learning_rate: 0.0010\n",
            "Epoch 4/25\n",
            "\u001b[1m422/422\u001b[0m \u001b[32m━━━━━━━━━━━━━━━━━━━━\u001b[0m\u001b[37m\u001b[0m \u001b[1m229s\u001b[0m 544ms/step - accuracy: 0.5686 - loss: 1.5700 - val_accuracy: 0.3520 - val_loss: 3.2241 - learning_rate: 0.0010\n",
            "Epoch 5/25\n",
            "\u001b[1m422/422\u001b[0m \u001b[32m━━━━━━━━━━━━━━━━━━━━\u001b[0m\u001b[37m\u001b[0m \u001b[1m229s\u001b[0m 543ms/step - accuracy: 0.6619 - loss: 1.1933 - val_accuracy: 0.3600 - val_loss: 3.5898 - learning_rate: 0.0010\n",
            "Epoch 6/25\n",
            "\u001b[1m422/422\u001b[0m \u001b[32m━━━━━━━━━━━━━━━━━━━━\u001b[0m\u001b[37m\u001b[0m \u001b[1m258s\u001b[0m 533ms/step - accuracy: 0.7408 - loss: 0.8965 - val_accuracy: 0.3300 - val_loss: 3.7424 - learning_rate: 0.0010\n",
            "Epoch 7/25\n",
            "\u001b[1m422/422\u001b[0m \u001b[32m━━━━━━━━━━━━━━━━━━━━\u001b[0m\u001b[37m\u001b[0m \u001b[1m229s\u001b[0m 543ms/step - accuracy: 0.8091 - loss: 0.6525 - val_accuracy: 0.4140 - val_loss: 3.0576 - learning_rate: 0.0010\n",
            "Epoch 8/25\n",
            "\u001b[1m422/422\u001b[0m \u001b[32m━━━━━━━━━━━━━━━━━━━━\u001b[0m\u001b[37m\u001b[0m \u001b[1m230s\u001b[0m 544ms/step - accuracy: 0.8700 - loss: 0.4439 - val_accuracy: 0.5400 - val_loss: 2.0775 - learning_rate: 0.0010\n",
            "Epoch 9/25\n",
            "\u001b[1m422/422\u001b[0m \u001b[32m━━━━━━━━━━━━━━━━━━━━\u001b[0m\u001b[37m\u001b[0m \u001b[1m229s\u001b[0m 544ms/step - accuracy: 0.9049 - loss: 0.3219 - val_accuracy: 0.6460 - val_loss: 1.7734 - learning_rate: 0.0010\n",
            "Epoch 10/25\n",
            "\u001b[1m422/422\u001b[0m \u001b[32m━━━━━━━━━━━━━━━━━━━━\u001b[0m\u001b[37m\u001b[0m \u001b[1m229s\u001b[0m 544ms/step - accuracy: 0.9330 - loss: 0.2211 - val_accuracy: 0.5300 - val_loss: 2.6085 - learning_rate: 0.0010\n",
            "Epoch 11/25\n",
            "\u001b[1m422/422\u001b[0m \u001b[32m━━━━━━━━━━━━━━━━━━━━\u001b[0m\u001b[37m\u001b[0m \u001b[1m229s\u001b[0m 544ms/step - accuracy: 0.9265 - loss: 0.2333 - val_accuracy: 0.5700 - val_loss: 2.3415 - learning_rate: 0.0010\n",
            "Epoch 12/25\n",
            "\u001b[1m422/422\u001b[0m \u001b[32m━━━━━━━━━━━━━━━━━━━━\u001b[0m\u001b[37m\u001b[0m \u001b[1m257s\u001b[0m 531ms/step - accuracy: 0.9401 - loss: 0.1883 - val_accuracy: 0.4200 - val_loss: 4.1564 - learning_rate: 0.0010\n",
            "Epoch 13/25\n",
            "\u001b[1m422/422\u001b[0m \u001b[32m━━━━━━━━━━━━━━━━━━━━\u001b[0m\u001b[37m\u001b[0m \u001b[1m229s\u001b[0m 542ms/step - accuracy: 0.9649 - loss: 0.1120 - val_accuracy: 0.7920 - val_loss: 0.8247 - learning_rate: 1.0000e-04\n",
            "Epoch 14/25\n",
            "\u001b[1m422/422\u001b[0m \u001b[32m━━━━━━━━━━━━━━━━━━━━\u001b[0m\u001b[37m\u001b[0m \u001b[1m258s\u001b[0m 533ms/step - accuracy: 0.9976 - loss: 0.0241 - val_accuracy: 0.7920 - val_loss: 0.8283 - learning_rate: 1.0000e-04\n",
            "Epoch 15/25\n",
            "\u001b[1m422/422\u001b[0m \u001b[32m━━━━━━━━━━━━━━━━━━━━\u001b[0m\u001b[37m\u001b[0m \u001b[1m261s\u001b[0m 532ms/step - accuracy: 0.9985 - loss: 0.0161 - val_accuracy: 0.8000 - val_loss: 0.7962 - learning_rate: 1.0000e-04\n",
            "Epoch 16/25\n",
            "\u001b[1m422/422\u001b[0m \u001b[32m━━━━━━━━━━━━━━━━━━━━\u001b[0m\u001b[37m\u001b[0m \u001b[1m230s\u001b[0m 545ms/step - accuracy: 0.9992 - loss: 0.0118 - val_accuracy: 0.7960 - val_loss: 0.8140 - learning_rate: 1.0000e-04\n",
            "Epoch 17/25\n",
            "\u001b[1m422/422\u001b[0m \u001b[32m━━━━━━━━━━━━━━━━━━━━\u001b[0m\u001b[37m\u001b[0m \u001b[1m230s\u001b[0m 544ms/step - accuracy: 0.9995 - loss: 0.0089 - val_accuracy: 0.8000 - val_loss: 0.8134 - learning_rate: 1.0000e-04\n",
            "Epoch 18/25\n",
            "\u001b[1m422/422\u001b[0m \u001b[32m━━━━━━━━━━━━━━━━━━━━\u001b[0m\u001b[37m\u001b[0m \u001b[1m259s\u001b[0m 538ms/step - accuracy: 1.0000 - loss: 0.0069 - val_accuracy: 0.8020 - val_loss: 0.8099 - learning_rate: 1.0000e-04\n",
            "Epoch 19/25\n",
            "\u001b[1m422/422\u001b[0m \u001b[32m━━━━━━━━━━━━━━━━━━━━\u001b[0m\u001b[37m\u001b[0m \u001b[1m230s\u001b[0m 544ms/step - accuracy: 0.9995 - loss: 0.0063 - val_accuracy: 0.7940 - val_loss: 0.8165 - learning_rate: 1.0000e-05\n",
            "Epoch 20/25\n",
            "\u001b[1m422/422\u001b[0m \u001b[32m━━━━━━━━━━━━━━━━━━━━\u001b[0m\u001b[37m\u001b[0m \u001b[1m230s\u001b[0m 544ms/step - accuracy: 0.9996 - loss: 0.0056 - val_accuracy: 0.7980 - val_loss: 0.8161 - learning_rate: 1.0000e-05\n"
          ]
        }
      ]
    },
    {
      "cell_type": "code",
      "source": [
        "fig = plt.figure()\n",
        "plt.plot(hist.history['loss'], color='teal', label='loss')\n",
        "plt.plot(hist.history['val_loss'], color='orange', label='val_loss')\n",
        "fig.suptitle('Loss', fontsize=20)\n",
        "plt.legend(loc=\"upper left\")\n",
        "plt.show()"
      ],
      "metadata": {
        "colab": {
          "base_uri": "https://localhost:8080/",
          "height": 478
        },
        "id": "IENBFdyNxLbf",
        "outputId": "c02814ef-277c-4014-c4ed-45d61b465463"
      },
      "execution_count": 15,
      "outputs": [
        {
          "output_type": "display_data",
          "data": {
            "text/plain": [
              "<Figure size 640x480 with 1 Axes>"
            ],
            "image/png": "[encoded data removed]"
          },
          "metadata": {}
        }
      ]
    },
    {
      "cell_type": "code",
      "source": [
        "fig = plt.figure()\n",
        "plt.plot(hist.history['accuracy'], color='teal', label='accuracy')\n",
        "plt.plot(hist.history['val_accuracy'], color='orange', label='val_accuracy')\n",
        "fig.suptitle('Accuracy', fontsize=20)\n",
        "plt.legend(loc=\"upper left\")\n",
        "plt.show()"
      ],
      "metadata": {
        "colab": {
          "base_uri": "https://localhost:8080/",
          "height": 478
        },
        "id": "ebv5lt90xagr",
        "outputId": "e47bc69e-e53a-4aa3-f377-e12a5af9ced7"
      },
      "execution_count": 16,
      "outputs": [
        {
          "output_type": "display_data",
          "data": {
            "text/plain": [
              "<Figure size 640x480 with 1 Axes>"
            ],
            "image/png": "[encoded data removed]"
          },
          "metadata": {}
        }
      ]
    },
    {
      "cell_type": "code",
      "source": [
        "from tensorflow.keras.metrics import Precision, Recall, CategoricalAccuracy\n",
        "\n",
        "pre = Precision()\n",
        "re = Recall()\n",
        "acc = CategoricalAccuracy()\n"
      ],
      "metadata": {
        "id": "7mK2qu38xcW9"
      },
      "execution_count": 17,
      "outputs": []
    },
    {
      "cell_type": "code",
      "source": [
        "for batch in testing_data.as_numpy_iterator():\n",
        "    X, y = batch\n",
        "    yhat = model.predict(X)\n",
        "    pre.update_state(y, yhat)\n",
        "    re.update_state(y, yhat)\n",
        "    acc.update_state(y, yhat)\n",
        "\n",
        "print(f'Precision:{pre.result().numpy()}, Recall:{re.result().numpy()}, Accuracy:{acc.result().numpy()}')"
      ],
      "metadata": {
        "colab": {
          "base_uri": "https://localhost:8080/"
        },
        "id": "gHbCn0eQxllR",
        "outputId": "8f9c0297-e646-45d2-8d08-aae7bb435c39"
      },
      "execution_count": 18,
      "outputs": [
        {
          "output_type": "stream",
          "name": "stdout",
          "text": [
            "\u001b[1m1/1\u001b[0m \u001b[32m━━━━━━━━━━━━━━━━━━━━\u001b[0m\u001b[37m\u001b[0m \u001b[1m3s\u001b[0m 3s/step\n",
            "\u001b[1m1/1\u001b[0m \u001b[32m━━━━━━━━━━━━━━━━━━━━\u001b[0m\u001b[37m\u001b[0m \u001b[1m0s\u001b[0m 167ms/step\n",
            "\u001b[1m1/1\u001b[0m \u001b[32m━━━━━━━━━━━━━━━━━━━━\u001b[0m\u001b[37m\u001b[0m \u001b[1m0s\u001b[0m 39ms/step\n",
            "\u001b[1m1/1\u001b[0m \u001b[32m━━━━━━━━━━━━━━━━━━━━\u001b[0m\u001b[37m\u001b[0m \u001b[1m0s\u001b[0m 42ms/step\n",
            "\u001b[1m1/1\u001b[0m \u001b[32m━━━━━━━━━━━━━━━━━━━━\u001b[0m\u001b[37m\u001b[0m \u001b[1m0s\u001b[0m 45ms/step\n",
            "\u001b[1m1/1\u001b[0m \u001b[32m━━━━━━━━━━━━━━━━━━━━\u001b[0m\u001b[37m\u001b[0m \u001b[1m0s\u001b[0m 40ms/step\n",
            "\u001b[1m1/1\u001b[0m \u001b[32m━━━━━━━━━━━━━━━━━━━━\u001b[0m\u001b[37m\u001b[0m \u001b[1m0s\u001b[0m 41ms/step\n",
            "\u001b[1m1/1\u001b[0m \u001b[32m━━━━━━━━━━━━━━━━━━━━\u001b[0m\u001b[37m\u001b[0m \u001b[1m0s\u001b[0m 31ms/step\n",
            "\u001b[1m1/1\u001b[0m \u001b[32m━━━━━━━━━━━━━━━━━━━━\u001b[0m\u001b[37m\u001b[0m \u001b[1m0s\u001b[0m 41ms/step\n",
            "\u001b[1m1/1\u001b[0m \u001b[32m━━━━━━━━━━━━━━━━━━━━\u001b[0m\u001b[37m\u001b[0m \u001b[1m0s\u001b[0m 31ms/step\n",
            "\u001b[1m1/1\u001b[0m \u001b[32m━━━━━━━━━━━━━━━━━━━━\u001b[0m\u001b[37m\u001b[0m \u001b[1m0s\u001b[0m 32ms/step\n",
            "\u001b[1m1/1\u001b[0m \u001b[32m━━━━━━━━━━━━━━━━━━━━\u001b[0m\u001b[37m\u001b[0m \u001b[1m0s\u001b[0m 41ms/step\n",
            "\u001b[1m1/1\u001b[0m \u001b[32m━━━━━━━━━━━━━━━━━━━━\u001b[0m\u001b[37m\u001b[0m \u001b[1m0s\u001b[0m 40ms/step\n",
            "\u001b[1m1/1\u001b[0m \u001b[32m━━━━━━━━━━━━━━━━━━━━\u001b[0m\u001b[37m\u001b[0m \u001b[1m0s\u001b[0m 42ms/step\n",
            "\u001b[1m1/1\u001b[0m \u001b[32m━━━━━━━━━━━━━━━━━━━━\u001b[0m\u001b[37m\u001b[0m \u001b[1m0s\u001b[0m 40ms/step\n",
            "\u001b[1m1/1\u001b[0m \u001b[32m━━━━━━━━━━━━━━━━━━━━\u001b[0m\u001b[37m\u001b[0m \u001b[1m2s\u001b[0m 2s/step\n",
            "Precision:0.8648648858070374, Recall:0.8320000171661377, Accuracy:0.8500000238418579\n"
          ]
        }
      ]
    },
    {
      "cell_type": "code",
      "source": [
        "# Specify the saving path on your Google Drive\n",
        "saving_path = '/content/drive/MyDrive/Saved_Models'\n",
        "\n",
        "# Save the TensorFlow model\n",
        "tf.saved_model.save(model, saving_path)"
      ],
      "metadata": {
        "id": "f31dPrJXxn1N"
      },
      "execution_count": 19,
      "outputs": []
    },
    {
      "cell_type": "code",
      "source": [
        "model.save('Sport_model.keras')"
      ],
      "metadata": {
        "id": "fOy7sTweW2vr"
      },
      "execution_count": 21,
      "outputs": []
    },
    {
      "cell_type": "code",
      "source": [],
      "metadata": {
        "id": "Qo9gHPLUW51q"
      },
      "execution_count": null,
      "outputs": []
    }
  ]
}