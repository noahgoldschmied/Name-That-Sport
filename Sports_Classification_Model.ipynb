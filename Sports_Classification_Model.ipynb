{
  "nbformat": 4,
  "nbformat_minor": 0,
  "metadata": {
    "colab": {
      "provenance": [],
      "gpuType": "A100",
      "mount_file_id": "1Yck6rYJFiXGhtMqrA7N4EtIiVQBuDC5w",
      "authorship_tag": "ABX9TyP//YvhTlNco/UdFH/hzDc/",
      "include_colab_link": true
    },
    "kernelspec": {
      "name": "python3",
      "display_name": "Python 3"
    },
    "language_info": {
      "name": "python"
    },
    "accelerator": "GPU"
  },
  "cells": [
    {
      "cell_type": "markdown",
      "metadata": {
        "id": "view-in-github",
        "colab_type": "text"
      },
      "source": [
        "<a href=\"https://colab.research.google.com/github/noahgoldschmied/Name-That-Sport/blob/main/Sports_Classification_Model.ipynb\" target=\"_parent\"><img src=\"https://colab.research.google.com/assets/colab-badge.svg\" alt=\"Open In Colab\"/></a>"
      ]
    },
    {
      "cell_type": "code",
      "execution_count": 2,
      "metadata": {
        "colab": {
          "base_uri": "https://localhost:8080/"
        },
        "id": "De236StiqLQb",
        "outputId": "3de6dca3-7944-4930-8cb0-ad090c0355d9"
      },
      "outputs": [
        {
          "output_type": "stream",
          "name": "stdout",
          "text": [
            "Drive already mounted at /content/drive; to attempt to forcibly remount, call drive.mount(\"/content/drive\", force_remount=True).\n"
          ]
        }
      ],
      "source": [
        "from google.colab import files, drive\n",
        "drive.mount(\"/content/drive\")"
      ]
    },
    {
      "cell_type": "code",
      "source": [
        "!pip install -q kaggle\n"
      ],
      "metadata": {
        "id": "8zuSiNRKqV9_"
      },
      "execution_count": 3,
      "outputs": []
    },
    {
      "cell_type": "code",
      "source": [
        "!mkdir ~/.kaggle\n",
        "\n"
      ],
      "metadata": {
        "colab": {
          "base_uri": "https://localhost:8080/"
        },
        "id": "8ZQLuMSiqeLJ",
        "outputId": "5b472545-a36c-416c-9987-4821036b54ae"
      },
      "execution_count": 4,
      "outputs": [
        {
          "output_type": "stream",
          "name": "stdout",
          "text": [
            "mkdir: cannot create directory ‘/root/.kaggle’: File exists\n"
          ]
        }
      ]
    },
    {
      "cell_type": "code",
      "source": [
        "!cp /content/drive/MyDrive/Colab_Notebooks/kaggle.json ~/.kaggle/"
      ],
      "metadata": {
        "id": "dbWSNfXKqiMt"
      },
      "execution_count": 5,
      "outputs": []
    },
    {
      "cell_type": "code",
      "source": [
        "!chmod 600 ~/.kaggle/kaggle.json"
      ],
      "metadata": {
        "id": "h3-bVXBBvg3O"
      },
      "execution_count": 6,
      "outputs": []
    },
    {
      "cell_type": "code",
      "source": [
        "!kaggle datasets download -d gpiosenka/sports-classification\n",
        "!mkdir data\n",
        "! unzip sports-classification.zip -d data"
      ],
      "metadata": {
        "colab": {
          "base_uri": "https://localhost:8080/"
        },
        "id": "Ni89HiyCvvHB",
        "outputId": "fd31d73e-24dd-42cc-aaee-259a54fab46b"
      },
      "execution_count": 7,
      "outputs": [
        {
          "output_type": "stream",
          "name": "stdout",
          "text": [
            "Dataset URL: https://www.kaggle.com/datasets/gpiosenka/sports-classification\n",
            "License(s): CC0-1.0\n",
            "sports-classification.zip: Skipping, found more recently modified local copy (use --force to force download)\n",
            "mkdir: cannot create directory ‘data’: File exists\n",
            "Archive:  sports-classification.zip\n",
            "replace data/EfficientNetB0-100-(224 X 224)- 98.40.h5? [y]es, [n]o, [A]ll, [N]one, [r]ename: N\n"
          ]
        }
      ]
    },
    {
      "cell_type": "code",
      "source": [
        "#importing our dependencies\n",
        "import tensorflow as tf\n",
        "import os\n",
        "#importing more\n",
        "import numpy as np\n",
        "from matplotlib import pyplot as plt\n",
        "from tensorflow.keras.preprocessing.image import ImageDataGenerator\n",
        "\n",
        "gpus = tf.config.list_physical_devices(device_type=\"GPU\")\n",
        "print(gpus)"
      ],
      "metadata": {
        "colab": {
          "base_uri": "https://localhost:8080/"
        },
        "id": "6xJio36WwUFO",
        "outputId": "9d251e90-8224-47be-8e7a-f3a92c3fa524"
      },
      "execution_count": 8,
      "outputs": [
        {
          "output_type": "stream",
          "name": "stdout",
          "text": [
            "[PhysicalDevice(name='/physical_device:GPU:0', device_type='GPU')]\n"
          ]
        }
      ]
    },
    {
      "cell_type": "code",
      "source": [
        "#creating the data pipelines\n",
        "training_data = tf.keras.utils.image_dataset_from_directory('data/train', label_mode='categorical', shuffle=True) #generator\n",
        "testing_data = tf.keras.utils.image_dataset_from_directory('data/test', label_mode='categorical', shuffle=False)\n",
        "validating_data = tf.keras.utils.image_dataset_from_directory('data/valid', label_mode='categorical', shuffle=False)\n"
      ],
      "metadata": {
        "colab": {
          "base_uri": "https://localhost:8080/"
        },
        "id": "CK7EBm_awpO2",
        "outputId": "59bc0826-3d3b-4c42-d8c9-fffab190544d"
      },
      "execution_count": 9,
      "outputs": [
        {
          "output_type": "stream",
          "name": "stdout",
          "text": [
            "Found 13492 files belonging to 100 classes.\n",
            "Found 500 files belonging to 100 classes.\n",
            "Found 500 files belonging to 100 classes.\n"
          ]
        }
      ]
    },
    {
      "cell_type": "code",
      "source": [
        "#right now we have our batches, with values from 0-255. In order to make the learning more efficient, we want to scale down to 0-1\n",
        "\n",
        "#the map function allows us to transform within the pipeline\n",
        "#the x variable represents the images, y represents the class labels\n",
        "#by doing x/255, we scale down to 0-1\n",
        "training_data = training_data.map(lambda x, y: (x/255, y))\n",
        "testing_data = testing_data.map(lambda x, y: (x/255, y))\n",
        "validating_data = validating_data.map(lambda x, y: (x/255, y))"
      ],
      "metadata": {
        "id": "s9o1KSN8wvMV"
      },
      "execution_count": 10,
      "outputs": []
    },
    {
      "cell_type": "code",
      "source": [
        "#importing more dependencies\n",
        "from tensorflow.keras.layers import Input, Flatten, Conv2D, SeparableConv2D, \\\n",
        "     Add, Dense, BatchNormalization, ReLU, MaxPool2D, GlobalAvgPool2D\n",
        "from tensorflow.keras import Model\n",
        "from tensorflow.keras.models import Sequential\n"
      ],
      "metadata": {
        "id": "k-Hjqcv5w3vZ"
      },
      "execution_count": 11,
      "outputs": []
    },
    {
      "cell_type": "code",
      "source": [
        "data_augmentation = tf.keras.models.Sequential([\n",
        "    tf.keras.layers.RandomFlip(\"horizontal\"),\n",
        "    tf.keras.layers.RandomHeight(0.2),\n",
        "    tf.keras.layers.RandomWidth(0.2),\n",
        "    tf.keras.layers.RandomZoom(0.2),\n",
        "    tf.keras.layers.RandomRotation(0.2),\n",
        "    tf.keras.layers.RandomContrast(factor=0.1),\n",
        "], name=\"data_augmentation_layer\")\n",
        "\n",
        "def conv_bn(x, filters, kernel_size, strides=1):\n",
        "    x = Conv2D(filters=filters,\n",
        "               kernel_size=kernel_size,\n",
        "               strides=strides,\n",
        "               padding='same',\n",
        "               use_bias=False)(x)\n",
        "    x = BatchNormalization()(x)\n",
        "    return x\n",
        "\n",
        "\n",
        "def sep_bn(x, filters, kernel_size, strides=1):\n",
        "    x = SeparableConv2D(filters=filters,\n",
        "                        kernel_size=kernel_size,\n",
        "                        strides=strides,\n",
        "                        padding='same',\n",
        "                        use_bias=False)(x)\n",
        "    x = BatchNormalization()(x)\n",
        "    return x\n",
        "\n",
        "\n",
        "def entry_flow(x):\n",
        "    x = conv_bn(x, filters=32, kernel_size=3, strides=2)\n",
        "    x = ReLU()(x)\n",
        "    x = conv_bn(x, filters=64, kernel_size=3)\n",
        "    tensor = ReLU()(x)\n",
        "\n",
        "    x = sep_bn(tensor, filters=128, kernel_size=3)\n",
        "    x = ReLU()(x)\n",
        "    x = sep_bn(x, filters=128, kernel_size=3)\n",
        "    x = MaxPool2D(pool_size=3, strides=2, padding='same')(x)\n",
        "\n",
        "    tensor = conv_bn(tensor, filters=128, kernel_size=1, strides=2)\n",
        "\n",
        "    x = Add()([tensor, x])\n",
        "    x = ReLU()(x)\n",
        "    x = sep_bn(x, filters=256, kernel_size=3)\n",
        "    x = ReLU()(x)\n",
        "    x = sep_bn(x, filters=256, kernel_size=3)\n",
        "    x = MaxPool2D(pool_size=3, strides=2, padding='same')(x)\n",
        "\n",
        "    tensor = conv_bn(tensor, filters=256, kernel_size=1, strides=2)\n",
        "\n",
        "    x = Add()([tensor, x])\n",
        "    x = ReLU()(x)\n",
        "    x = sep_bn(x, filters=256, kernel_size=3)\n",
        "    x = ReLU()(x)\n",
        "    x = sep_bn(x, filters=256, kernel_size=3)\n",
        "    x = MaxPool2D(pool_size=3, strides=2, padding='same')(x)\n",
        "\n",
        "    tensor = conv_bn(tensor, filters=256, kernel_size=1, strides=2)\n",
        "    x = Add()([tensor, x])\n",
        "\n",
        "    return x\n",
        "\n",
        "\n",
        "def middle_flow(tensor):\n",
        "    for _ in range(8):\n",
        "        x = ReLU()(tensor)\n",
        "        x = sep_bn(x, filters=256, kernel_size=3)\n",
        "        x = ReLU()(x)\n",
        "        x = sep_bn(x, filters=256, kernel_size=3)\n",
        "        x = ReLU()(x)\n",
        "        x = sep_bn(x, filters=256, kernel_size=3)\n",
        "\n",
        "        tensor = Add()([tensor, x])\n",
        "\n",
        "    return tensor\n",
        "\n",
        "\n",
        "def exit_flow(tensor):\n",
        "    x = ReLU()(tensor)\n",
        "    x = sep_bn(x, filters=728, kernel_size=3)\n",
        "    x = ReLU()(x)\n",
        "    x = sep_bn(x, filters=1024, kernel_size=3)\n",
        "    x = MaxPool2D(3, strides=2, padding='same')(x)\n",
        "\n",
        "    tensor = conv_bn(tensor, filters=1024, kernel_size=1, strides=2)\n",
        "\n",
        "    x = Add()([tensor, x])\n",
        "    x = sep_bn(x, filters=1024, kernel_size=3)\n",
        "    x = ReLU()(x)\n",
        "    x = sep_bn(x, filters=1024, kernel_size=3)\n",
        "    x = ReLU()(x)\n",
        "    x = GlobalAvgPool2D()(x)\n",
        "    x = Dense(units=100, activation='softmax')(x)\n",
        "\n",
        "    return x\n",
        "\n"
      ],
      "metadata": {
        "id": "bRuVVgnUw51B"
      },
      "execution_count": 16,
      "outputs": []
    },
    {
      "cell_type": "code",
      "source": [
        "# Define RMSprop optimizer with specific parameters\n",
        "from tensorflow.keras.optimizers import RMSprop\n",
        "from tensorflow.keras.callbacks import EarlyStopping, ReduceLROnPlateau\n",
        "\n",
        "early_stopping = EarlyStopping(monitor='val_loss', patience=5, restore_best_weights=True)\n",
        "\n",
        "optimizer = RMSprop(learning_rate=0.001, rho=0.9, epsilon=1e-07)\n",
        "reduce_lr = ReduceLROnPlateau(monitor='val_loss', factor=0.1, patience=3, min_lr=1e-7)"
      ],
      "metadata": {
        "id": "hBZFBArq26y0"
      },
      "execution_count": 17,
      "outputs": []
    },
    {
      "cell_type": "code",
      "source": [
        "input = Input(shape=[256, 256, 3])\n",
        "\n",
        "x = data_augmentation(input)\n",
        "x = entry_flow(input)\n",
        "x = middle_flow(x)\n",
        "output = exit_flow(x)\n",
        "\n",
        "model = Model(input, output)\n",
        "model.compile(optimizer='adam',loss='categorical_crossentropy',metrics=['accuracy'])"
      ],
      "metadata": {
        "id": "W3tQsvdHxGlZ"
      },
      "execution_count": 18,
      "outputs": []
    },
    {
      "cell_type": "markdown",
      "source": [
        "hist = model.fit(training_data, epochs = 25, validation_data=validating_data)"
      ],
      "metadata": {
        "id": "Co2mU6dQxI2x"
      }
    },
    {
      "cell_type": "code",
      "source": [
        "hist = model.fit(training_data, epochs=25, validation_data = validating_data, callbacks=[early_stopping, reduce_lr])"
      ],
      "metadata": {
        "id": "Ozsl_Pcq2ptw",
        "outputId": "0f63fe63-f49c-4524-dff8-bd19b03df734",
        "colab": {
          "base_uri": "https://localhost:8080/"
        }
      },
      "execution_count": 19,
      "outputs": [
        {
          "output_type": "stream",
          "name": "stdout",
          "text": [
            "Epoch 1/25\n",
            "\u001b[1m422/422\u001b[0m \u001b[32m━━━━━━━━━━━━━━━━━━━━\u001b[0m\u001b[37m\u001b[0m \u001b[1m94s\u001b[0m 111ms/step - accuracy: 0.0964 - loss: 3.9236 - val_accuracy: 0.0240 - val_loss: 5.2914 - learning_rate: 0.0010\n",
            "Epoch 2/25\n",
            "\u001b[1m422/422\u001b[0m \u001b[32m━━━━━━━━━━━━━━━━━━━━\u001b[0m\u001b[37m\u001b[0m \u001b[1m20s\u001b[0m 47ms/step - accuracy: 0.3149 - loss: 2.6138 - val_accuracy: 0.1280 - val_loss: 7.5935 - learning_rate: 0.0010\n",
            "Epoch 3/25\n",
            "\u001b[1m422/422\u001b[0m \u001b[32m━━━━━━━━━━━━━━━━━━━━\u001b[0m\u001b[37m\u001b[0m \u001b[1m20s\u001b[0m 47ms/step - accuracy: 0.4737 - loss: 1.9476 - val_accuracy: 0.3780 - val_loss: 2.4994 - learning_rate: 0.0010\n",
            "Epoch 4/25\n",
            "\u001b[1m422/422\u001b[0m \u001b[32m━━━━━━━━━━━━━━━━━━━━\u001b[0m\u001b[37m\u001b[0m \u001b[1m20s\u001b[0m 47ms/step - accuracy: 0.5890 - loss: 1.4770 - val_accuracy: 0.4700 - val_loss: 2.1716 - learning_rate: 0.0010\n",
            "Epoch 5/25\n",
            "\u001b[1m422/422\u001b[0m \u001b[32m━━━━━━━━━━━━━━━━━━━━\u001b[0m\u001b[37m\u001b[0m \u001b[1m20s\u001b[0m 47ms/step - accuracy: 0.6838 - loss: 1.1180 - val_accuracy: 0.5320 - val_loss: 1.8926 - learning_rate: 0.0010\n",
            "Epoch 6/25\n",
            "\u001b[1m422/422\u001b[0m \u001b[32m━━━━━━━━━━━━━━━━━━━━\u001b[0m\u001b[37m\u001b[0m \u001b[1m20s\u001b[0m 46ms/step - accuracy: 0.7599 - loss: 0.8341 - val_accuracy: 0.5200 - val_loss: 1.9840 - learning_rate: 0.0010\n",
            "Epoch 7/25\n",
            "\u001b[1m422/422\u001b[0m \u001b[32m━━━━━━━━━━━━━━━━━━━━\u001b[0m\u001b[37m\u001b[0m \u001b[1m20s\u001b[0m 47ms/step - accuracy: 0.8235 - loss: 0.6112 - val_accuracy: 0.6080 - val_loss: 1.5218 - learning_rate: 0.0010\n",
            "Epoch 8/25\n",
            "\u001b[1m422/422\u001b[0m \u001b[32m━━━━━━━━━━━━━━━━━━━━\u001b[0m\u001b[37m\u001b[0m \u001b[1m20s\u001b[0m 46ms/step - accuracy: 0.8696 - loss: 0.4316 - val_accuracy: 0.6000 - val_loss: 1.6814 - learning_rate: 0.0010\n",
            "Epoch 9/25\n",
            "\u001b[1m422/422\u001b[0m \u001b[32m━━━━━━━━━━━━━━━━━━━━\u001b[0m\u001b[37m\u001b[0m \u001b[1m20s\u001b[0m 46ms/step - accuracy: 0.9125 - loss: 0.2835 - val_accuracy: 0.5800 - val_loss: 1.9568 - learning_rate: 0.0010\n",
            "Epoch 10/25\n",
            "\u001b[1m422/422\u001b[0m \u001b[32m━━━━━━━━━━━━━━━━━━━━\u001b[0m\u001b[37m\u001b[0m \u001b[1m20s\u001b[0m 47ms/step - accuracy: 0.9275 - loss: 0.2412 - val_accuracy: 0.5460 - val_loss: 2.2869 - learning_rate: 0.0010\n",
            "Epoch 11/25\n",
            "\u001b[1m422/422\u001b[0m \u001b[32m━━━━━━━━━━━━━━━━━━━━\u001b[0m\u001b[37m\u001b[0m \u001b[1m20s\u001b[0m 47ms/step - accuracy: 0.9588 - loss: 0.1453 - val_accuracy: 0.7920 - val_loss: 0.7624 - learning_rate: 1.0000e-04\n",
            "Epoch 12/25\n",
            "\u001b[1m422/422\u001b[0m \u001b[32m━━━━━━━━━━━━━━━━━━━━\u001b[0m\u001b[37m\u001b[0m \u001b[1m20s\u001b[0m 47ms/step - accuracy: 0.9955 - loss: 0.0397 - val_accuracy: 0.8060 - val_loss: 0.7470 - learning_rate: 1.0000e-04\n",
            "Epoch 13/25\n",
            "\u001b[1m422/422\u001b[0m \u001b[32m━━━━━━━━━━━━━━━━━━━━\u001b[0m\u001b[37m\u001b[0m \u001b[1m20s\u001b[0m 46ms/step - accuracy: 0.9982 - loss: 0.0257 - val_accuracy: 0.8100 - val_loss: 0.7329 - learning_rate: 1.0000e-04\n",
            "Epoch 14/25\n",
            "\u001b[1m422/422\u001b[0m \u001b[32m━━━━━━━━━━━━━━━━━━━━\u001b[0m\u001b[37m\u001b[0m \u001b[1m20s\u001b[0m 47ms/step - accuracy: 0.9993 - loss: 0.0185 - val_accuracy: 0.8080 - val_loss: 0.7324 - learning_rate: 1.0000e-04\n",
            "Epoch 15/25\n",
            "\u001b[1m422/422\u001b[0m \u001b[32m━━━━━━━━━━━━━━━━━━━━\u001b[0m\u001b[37m\u001b[0m \u001b[1m20s\u001b[0m 47ms/step - accuracy: 0.9998 - loss: 0.0145 - val_accuracy: 0.8060 - val_loss: 0.7180 - learning_rate: 1.0000e-04\n",
            "Epoch 16/25\n",
            "\u001b[1m422/422\u001b[0m \u001b[32m━━━━━━━━━━━━━━━━━━━━\u001b[0m\u001b[37m\u001b[0m \u001b[1m20s\u001b[0m 46ms/step - accuracy: 1.0000 - loss: 0.0113 - val_accuracy: 0.8080 - val_loss: 0.7269 - learning_rate: 1.0000e-04\n",
            "Epoch 17/25\n",
            "\u001b[1m422/422\u001b[0m \u001b[32m━━━━━━━━━━━━━━━━━━━━\u001b[0m\u001b[37m\u001b[0m \u001b[1m20s\u001b[0m 47ms/step - accuracy: 0.9998 - loss: 0.0096 - val_accuracy: 0.8000 - val_loss: 0.7266 - learning_rate: 1.0000e-04\n",
            "Epoch 18/25\n",
            "\u001b[1m422/422\u001b[0m \u001b[32m━━━━━━━━━━━━━━━━━━━━\u001b[0m\u001b[37m\u001b[0m \u001b[1m20s\u001b[0m 46ms/step - accuracy: 1.0000 - loss: 0.0070 - val_accuracy: 0.8100 - val_loss: 0.7126 - learning_rate: 1.0000e-04\n",
            "Epoch 19/25\n",
            "\u001b[1m422/422\u001b[0m \u001b[32m━━━━━━━━━━━━━━━━━━━━\u001b[0m\u001b[37m\u001b[0m \u001b[1m20s\u001b[0m 46ms/step - accuracy: 1.0000 - loss: 0.0064 - val_accuracy: 0.8020 - val_loss: 0.7308 - learning_rate: 1.0000e-04\n",
            "Epoch 20/25\n",
            "\u001b[1m422/422\u001b[0m \u001b[32m━━━━━━━━━━━━━━━━━━━━\u001b[0m\u001b[37m\u001b[0m \u001b[1m20s\u001b[0m 46ms/step - accuracy: 1.0000 - loss: 0.0049 - val_accuracy: 0.8160 - val_loss: 0.7387 - learning_rate: 1.0000e-04\n",
            "Epoch 21/25\n",
            "\u001b[1m422/422\u001b[0m \u001b[32m━━━━━━━━━━━━━━━━━━━━\u001b[0m\u001b[37m\u001b[0m \u001b[1m20s\u001b[0m 46ms/step - accuracy: 1.0000 - loss: 0.0042 - val_accuracy: 0.8100 - val_loss: 0.7278 - learning_rate: 1.0000e-04\n",
            "Epoch 22/25\n",
            "\u001b[1m422/422\u001b[0m \u001b[32m━━━━━━━━━━━━━━━━━━━━\u001b[0m\u001b[37m\u001b[0m \u001b[1m20s\u001b[0m 46ms/step - accuracy: 1.0000 - loss: 0.0036 - val_accuracy: 0.8080 - val_loss: 0.7342 - learning_rate: 1.0000e-05\n",
            "Epoch 23/25\n",
            "\u001b[1m422/422\u001b[0m \u001b[32m━━━━━━━━━━━━━━━━━━━━\u001b[0m\u001b[37m\u001b[0m \u001b[1m20s\u001b[0m 46ms/step - accuracy: 1.0000 - loss: 0.0034 - val_accuracy: 0.8060 - val_loss: 0.7362 - learning_rate: 1.0000e-05\n"
          ]
        }
      ]
    },
    {
      "cell_type": "code",
      "source": [
        "fig = plt.figure()\n",
        "plt.plot(hist.history['loss'], color='teal', label='loss')\n",
        "plt.plot(hist.history['val_loss'], color='orange', label='val_loss')\n",
        "fig.suptitle('Loss', fontsize=20)\n",
        "plt.legend(loc=\"upper left\")\n",
        "plt.show()"
      ],
      "metadata": {
        "colab": {
          "base_uri": "https://localhost:8080/",
          "height": 478
        },
        "id": "IENBFdyNxLbf",
        "outputId": "13ccb327-512f-4653-e8a6-50d01d82deb5"
      },
      "execution_count": 20,
      "outputs": [
        {
          "output_type": "display_data",
          "data": {
            "text/plain": [
              "<Figure size 640x480 with 1 Axes>"
            ],
            "image/png": "[encoded data removed]"
          },
          "metadata": {}
        }
      ]
    },
    {
      "cell_type": "code",
      "source": [
        "fig = plt.figure()\n",
        "plt.plot(hist.history['accuracy'], color='teal', label='accuracy')\n",
        "plt.plot(hist.history['val_accuracy'], color='orange', label='val_accuracy')\n",
        "fig.suptitle('Accuracy', fontsize=20)\n",
        "plt.legend(loc=\"upper left\")\n",
        "plt.show()"
      ],
      "metadata": {
        "colab": {
          "base_uri": "https://localhost:8080/",
          "height": 478
        },
        "id": "ebv5lt90xagr",
        "outputId": "f34ea2c9-52d0-478d-8a6b-1f02bd897900"
      },
      "execution_count": 21,
      "outputs": [
        {
          "output_type": "display_data",
          "data": {
            "text/plain": [
              "<Figure size 640x480 with 1 Axes>"
            ],
            "image/png": "[encoded data removed]"
          },
          "metadata": {}
        }
      ]
    },
    {
      "cell_type": "code",
      "source": [
        "from tensorflow.keras.metrics import Precision, Recall, CategoricalAccuracy\n",
        "\n",
        "pre = Precision()\n",
        "re = Recall()\n",
        "acc = CategoricalAccuracy()\n"
      ],
      "metadata": {
        "id": "7mK2qu38xcW9"
      },
      "execution_count": 22,
      "outputs": []
    },
    {
      "cell_type": "code",
      "source": [
        "for batch in testing_data.as_numpy_iterator():\n",
        "    X, y = batch\n",
        "    yhat = model.predict(X)\n",
        "    pre.update_state(y, yhat)\n",
        "    re.update_state(y, yhat)\n",
        "    acc.update_state(y, yhat)\n",
        "\n",
        "print(f'Precision:{pre.result().numpy()}, Recall:{re.result().numpy()}, Accuracy:{acc.result().numpy()}')"
      ],
      "metadata": {
        "colab": {
          "base_uri": "https://localhost:8080/"
        },
        "id": "gHbCn0eQxllR",
        "outputId": "fc90b864-e651-49cc-baaa-cad506b3e1b7"
      },
      "execution_count": 23,
      "outputs": [
        {
          "output_type": "stream",
          "name": "stdout",
          "text": [
            "\u001b[1m1/1\u001b[0m \u001b[32m━━━━━━━━━━━━━━━━━━━━\u001b[0m\u001b[37m\u001b[0m \u001b[1m2s\u001b[0m 2s/step\n",
            "\u001b[1m1/1\u001b[0m \u001b[32m━━━━━━━━━━━━━━━━━━━━\u001b[0m\u001b[37m\u001b[0m \u001b[1m0s\u001b[0m 33ms/step\n",
            "\u001b[1m1/1\u001b[0m \u001b[32m━━━━━━━━━━━━━━━━━━━━\u001b[0m\u001b[37m\u001b[0m \u001b[1m0s\u001b[0m 32ms/step\n",
            "\u001b[1m1/1\u001b[0m \u001b[32m━━━━━━━━━━━━━━━━━━━━\u001b[0m\u001b[37m\u001b[0m \u001b[1m0s\u001b[0m 32ms/step\n",
            "\u001b[1m1/1\u001b[0m \u001b[32m━━━━━━━━━━━━━━━━━━━━\u001b[0m\u001b[37m\u001b[0m \u001b[1m0s\u001b[0m 32ms/step\n",
            "\u001b[1m1/1\u001b[0m \u001b[32m━━━━━━━━━━━━━━━━━━━━\u001b[0m\u001b[37m\u001b[0m \u001b[1m0s\u001b[0m 33ms/step\n",
            "\u001b[1m1/1\u001b[0m \u001b[32m━━━━━━━━━━━━━━━━━━━━\u001b[0m\u001b[37m\u001b[0m \u001b[1m0s\u001b[0m 33ms/step\n",
            "\u001b[1m1/1\u001b[0m \u001b[32m━━━━━━━━━━━━━━━━━━━━\u001b[0m\u001b[37m\u001b[0m \u001b[1m0s\u001b[0m 32ms/step\n",
            "\u001b[1m1/1\u001b[0m \u001b[32m━━━━━━━━━━━━━━━━━━━━\u001b[0m\u001b[37m\u001b[0m \u001b[1m0s\u001b[0m 33ms/step\n",
            "\u001b[1m1/1\u001b[0m \u001b[32m━━━━━━━━━━━━━━━━━━━━\u001b[0m\u001b[37m\u001b[0m \u001b[1m0s\u001b[0m 31ms/step\n",
            "\u001b[1m1/1\u001b[0m \u001b[32m━━━━━━━━━━━━━━━━━━━━\u001b[0m\u001b[37m\u001b[0m \u001b[1m0s\u001b[0m 32ms/step\n",
            "\u001b[1m1/1\u001b[0m \u001b[32m━━━━━━━━━━━━━━━━━━━━\u001b[0m\u001b[37m\u001b[0m \u001b[1m0s\u001b[0m 32ms/step\n",
            "\u001b[1m1/1\u001b[0m \u001b[32m━━━━━━━━━━━━━━━━━━━━\u001b[0m\u001b[37m\u001b[0m \u001b[1m0s\u001b[0m 32ms/step\n",
            "\u001b[1m1/1\u001b[0m \u001b[32m━━━━━━━━━━━━━━━━━━━━\u001b[0m\u001b[37m\u001b[0m \u001b[1m0s\u001b[0m 32ms/step\n",
            "\u001b[1m1/1\u001b[0m \u001b[32m━━━━━━━━━━━━━━━━━━━━\u001b[0m\u001b[37m\u001b[0m \u001b[1m0s\u001b[0m 31ms/step\n",
            "\u001b[1m1/1\u001b[0m \u001b[32m━━━━━━━━━━━━━━━━━━━━\u001b[0m\u001b[37m\u001b[0m \u001b[1m2s\u001b[0m 2s/step\n",
            "Precision:0.8879310488700867, Recall:0.8240000009536743, Accuracy:0.8399999737739563\n"
          ]
        }
      ]
    },
    {
      "cell_type": "code",
      "source": [
        "model.save('sport_model.keras')"
      ],
      "metadata": {
        "id": "fOy7sTweW2vr",
        "colab": {
          "base_uri": "https://localhost:8080/",
          "height": 106
        },
        "outputId": "1da48115-240a-437c-a2fa-eddd2c73c48f"
      },
      "execution_count": 25,
      "outputs": [
        {
          "output_type": "error",
          "ename": "SyntaxError",
          "evalue": "(unicode error) 'unicodeescape' codec can't decode bytes in position 2-3: truncated \\UXXXXXXXX escape (<ipython-input-25-75609dae4ad4>, line 1)",
          "traceback": [
            "\u001b[0;36m  File \u001b[0;32m\"<ipython-input-25-75609dae4ad4>\"\u001b[0;36m, line \u001b[0;32m1\u001b[0m\n\u001b[0;31m    model.save('C:\\Users\\noahg\\Name-That-Sport')\u001b[0m\n\u001b[0m                                               ^\u001b[0m\n\u001b[0;31mSyntaxError\u001b[0m\u001b[0;31m:\u001b[0m (unicode error) 'unicodeescape' codec can't decode bytes in position 2-3: truncated \\UXXXXXXXX escape\n"
          ]
        }
      ]
    },
    {
      "cell_type": "code",
      "source": [],
      "metadata": {
        "id": "Qo9gHPLUW51q"
      },
      "execution_count": null,
      "outputs": []
    }
  ]
}